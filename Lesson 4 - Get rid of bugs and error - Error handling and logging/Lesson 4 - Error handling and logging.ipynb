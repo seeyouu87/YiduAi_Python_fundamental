{
 "cells": [
  {
   "cell_type": "markdown",
   "metadata": {},
   "source": [
    "## Logging example\n",
    "\n",
    "The get_logger() function below shows an example of applying python logging module"
   ]
  },
  {
   "cell_type": "code",
   "execution_count": 2,
   "metadata": {},
   "outputs": [],
   "source": [
    "import os\n",
    "import logging\n",
    "import datetime\n",
    "\n",
    "loggers = {}\n",
    "\n",
    "def get_logger():\n",
    "    global loggers\n",
    "\n",
    "    name = 'my-log' # define logger name\n",
    "    if name in loggers:\n",
    "        return loggers.get(name)\n",
    "\n",
    "    logger = logging.getLogger()\n",
    "    logger.setLevel(logging.WARNING)\n",
    "\n",
    "    # set file handler with file name format\n",
    "    fh = logging.FileHandler('log-{0}.txt'.format(datetime.datetime.utcnow().strftime('%Y-%m-%d'))) \n",
    "    ch = logging.StreamHandler() # set stream handler which store log into memory stream\n",
    "\n",
    "    fh.setLevel(logging.DEBUG)\n",
    "    ch.setLevel(logging.DEBUG)\n",
    "\n",
    "    # set the log message format\n",
    "    formatter = logging.Formatter(\"%(asctime)s - %(name)s - %(levelname)s -%(module)s- %(message)s\") \n",
    "    fh.setFormatter(formatter)\n",
    "    ch.setFormatter(formatter)\n",
    "\n",
    "    logger.addHandler(fh)\n",
    "    logger.addHandler(ch)\n",
    "\n",
    "    loggers[name] = logger\n",
    "\n",
    "    return logger"
   ]
  },
  {
   "cell_type": "code",
   "execution_count": 3,
   "metadata": {},
   "outputs": [
    {
     "name": "stderr",
     "output_type": "stream",
     "text": [
      "2019-08-15 22:42:32,332 - root - ERROR -<ipython-input-3-1c56e23f1aa4>- Error in application\n"
     ]
    }
   ],
   "source": [
    "# write a log file:\n",
    "logger = get_logger()\n",
    "logger.error(\"Error in application\")"
   ]
  },
  {
   "cell_type": "markdown",
   "metadata": {},
   "source": [
    "## Exception handling"
   ]
  },
  {
   "cell_type": "code",
   "execution_count": 4,
   "metadata": {},
   "outputs": [
    {
     "name": "stdout",
     "output_type": "stream",
     "text": [
      "something wrong\n"
     ]
    }
   ],
   "source": [
    "try:\n",
    "    # your code here\n",
    "    print(\"string plus a number will get error: \" + 2)\n",
    "except:\n",
    "    # if any error happened:\n",
    "    print(\"something wrong\")"
   ]
  },
  {
   "cell_type": "code",
   "execution_count": 8,
   "metadata": {},
   "outputs": [
    {
     "name": "stdout",
     "output_type": "stream",
     "text": [
      "import error\n"
     ]
    }
   ],
   "source": [
    "try:\n",
    "    # your code here\n",
    "#     print(\"string plus a number will get error: \" + 2)\n",
    "#     f = open('something_not_exist.txt')\n",
    "#     1/0\n",
    "    import something_not_exist\n",
    "except ImportError as e:\n",
    "    print(\"import error\")\n",
    "except ValueError as e:\n",
    "    print(\"value error\")\n",
    "except IOError as e:\n",
    "    print(\"io error\")\n",
    "except TypeError as e:\n",
    "    # if we wish to log more info about this error:\n",
    "    # we get a specific exception type and handle it\n",
    "    print(\"type error\")\n",
    "except Exception as e:\n",
    "    # for any exception types\n",
    "    print(e)"
   ]
  },
  {
   "cell_type": "markdown",
   "metadata": {},
   "source": [
    "## traceback module\n",
    "\n",
    "This module provides a standard interface to extract, format and print stack traces of Python programs.    \n",
    "It exactly mimics the behavior of the Python interpreter when it prints a stack trace. This is useful when you want to print stack traces under program control, such as in a “wrapper” around the interpreter."
   ]
  },
  {
   "cell_type": "code",
   "execution_count": 15,
   "metadata": {},
   "outputs": [
    {
     "name": "stderr",
     "output_type": "stream",
     "text": [
      "2019-08-15 22:57:10,699 - root - ERROR -<ipython-input-15-352341e70341>- Can't convert 'int' object to str implicitly\n",
      "2019-08-15 22:57:10,714 - root - ERROR -<ipython-input-15-352341e70341>- [<FrameSummary file C:\\Users\\Dell\\AppData\\Local\\conda\\conda\\envs\\py35\\lib\\runpy.py, line 193 in _run_module_as_main>, <FrameSummary file C:\\Users\\Dell\\AppData\\Local\\conda\\conda\\envs\\py35\\lib\\runpy.py, line 85 in _run_code>, <FrameSummary file C:\\Users\\Dell\\AppData\\Local\\conda\\conda\\envs\\py35\\lib\\site-packages\\ipykernel_launcher.py, line 16 in <module>>, <FrameSummary file C:\\Users\\Dell\\AppData\\Local\\conda\\conda\\envs\\py35\\lib\\site-packages\\traitlets\\config\\application.py, line 658 in launch_instance>, <FrameSummary file C:\\Users\\Dell\\AppData\\Local\\conda\\conda\\envs\\py35\\lib\\site-packages\\ipykernel\\kernelapp.py, line 478 in start>, <FrameSummary file C:\\Users\\Dell\\AppData\\Local\\conda\\conda\\envs\\py35\\lib\\site-packages\\zmq\\eventloop\\ioloop.py, line 177 in start>, <FrameSummary file C:\\Users\\Dell\\AppData\\Local\\conda\\conda\\envs\\py35\\lib\\site-packages\\tornado\\ioloop.py, line 888 in start>, <FrameSummary file C:\\Users\\Dell\\AppData\\Local\\conda\\conda\\envs\\py35\\lib\\site-packages\\tornado\\stack_context.py, line 277 in null_wrapper>, <FrameSummary file C:\\Users\\Dell\\AppData\\Local\\conda\\conda\\envs\\py35\\lib\\site-packages\\zmq\\eventloop\\zmqstream.py, line 440 in _handle_events>, <FrameSummary file C:\\Users\\Dell\\AppData\\Local\\conda\\conda\\envs\\py35\\lib\\site-packages\\zmq\\eventloop\\zmqstream.py, line 472 in _handle_recv>, <FrameSummary file C:\\Users\\Dell\\AppData\\Local\\conda\\conda\\envs\\py35\\lib\\site-packages\\zmq\\eventloop\\zmqstream.py, line 414 in _run_callback>, <FrameSummary file C:\\Users\\Dell\\AppData\\Local\\conda\\conda\\envs\\py35\\lib\\site-packages\\tornado\\stack_context.py, line 277 in null_wrapper>, <FrameSummary file C:\\Users\\Dell\\AppData\\Local\\conda\\conda\\envs\\py35\\lib\\site-packages\\ipykernel\\kernelbase.py, line 283 in dispatcher>, <FrameSummary file C:\\Users\\Dell\\AppData\\Local\\conda\\conda\\envs\\py35\\lib\\site-packages\\ipykernel\\kernelbase.py, line 233 in dispatch_shell>, <FrameSummary file C:\\Users\\Dell\\AppData\\Local\\conda\\conda\\envs\\py35\\lib\\site-packages\\ipykernel\\kernelbase.py, line 399 in execute_request>, <FrameSummary file C:\\Users\\Dell\\AppData\\Local\\conda\\conda\\envs\\py35\\lib\\site-packages\\ipykernel\\ipkernel.py, line 208 in do_execute>, <FrameSummary file C:\\Users\\Dell\\AppData\\Local\\conda\\conda\\envs\\py35\\lib\\site-packages\\ipykernel\\zmqshell.py, line 537 in run_cell>, <FrameSummary file C:\\Users\\Dell\\AppData\\Local\\conda\\conda\\envs\\py35\\lib\\site-packages\\IPython\\core\\interactiveshell.py, line 2728 in run_cell>, <FrameSummary file C:\\Users\\Dell\\AppData\\Local\\conda\\conda\\envs\\py35\\lib\\site-packages\\IPython\\core\\interactiveshell.py, line 2850 in run_ast_nodes>, <FrameSummary file C:\\Users\\Dell\\AppData\\Local\\conda\\conda\\envs\\py35\\lib\\site-packages\\IPython\\core\\interactiveshell.py, line 2910 in run_code>, <FrameSummary file <ipython-input-15-352341e70341>, line 9 in <module>>]\n"
     ]
    }
   ],
   "source": [
    "import traceback\n",
    "try:\n",
    "    # your code here\n",
    "    print(\"string plus a number will get error: \" + 2)\n",
    "except TypeError as e:\n",
    "    # if we wish to log more info about this error:\n",
    "    # we get a specific exception type and handle it\n",
    "    logger.error(e)\n",
    "    logger.error(traceback.extract_stack())\n",
    "except Exception as e:\n",
    "    # for all exception types\n",
    "    print(e)"
   ]
  },
  {
   "cell_type": "markdown",
   "metadata": {},
   "source": [
    "## Hands-on Exercise\n",
    "\n",
    "* Using self._log as logger object to write log inside RoboAdvisor\n",
    "* Using exception handling for calculate_projected_return method"
   ]
  },
  {
   "cell_type": "code",
   "execution_count": null,
   "metadata": {},
   "outputs": [],
   "source": []
  }
 ],
 "metadata": {
  "kernelspec": {
   "display_name": "Python 3",
   "language": "python",
   "name": "python3"
  },
  "language_info": {
   "codemirror_mode": {
    "name": "ipython",
    "version": 3
   },
   "file_extension": ".py",
   "mimetype": "text/x-python",
   "name": "python",
   "nbconvert_exporter": "python",
   "pygments_lexer": "ipython3",
   "version": "3.5.4"
  }
 },
 "nbformat": 4,
 "nbformat_minor": 2
}
