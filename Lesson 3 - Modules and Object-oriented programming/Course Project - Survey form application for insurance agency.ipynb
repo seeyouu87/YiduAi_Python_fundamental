{
 "cells": [
  {
   "cell_type": "markdown",
   "metadata": {},
   "source": [
    "## Survey form application for insurance agency\n",
    "\n",
    "Use OOP method create a survey from application, the survey application will collect client's data for insurance agents. The below client's informations will be collected:   \n",
    "* Name\n",
    "* Age\n",
    "* Monthly salary\n",
    "* Monthly CPF deducted\n",
    "* Estimated Monthly expenses\n",
    "* Estimated saving per month   \n",
    "\n",
    "The application will store multiple client's data into a CSV file, application will read the data from CSV file for reporting purpose. The data will be shown on as chart to display the following:  \n",
    "* projected growth of saving ( with rate = 0.1%)\n",
    "* projected growth of CPF (with rate = 2.8%)\n",
    "* Chart to display client's income distribution (x-axis as income range, y-axis as number of clients)"
   ]
  },
  {
   "cell_type": "code",
   "execution_count": 3,
   "metadata": {},
   "outputs": [],
   "source": [
    "class ClientSurvey:\n",
    "    def __init__(self):\n",
    "        pass"
   ]
  },
  {
   "cell_type": "code",
   "execution_count": null,
   "metadata": {},
   "outputs": [],
   "source": []
  }
 ],
 "metadata": {
  "kernelspec": {
   "display_name": "Python 3",
   "language": "python",
   "name": "python3"
  },
  "language_info": {
   "codemirror_mode": {
    "name": "ipython",
    "version": 3
   },
   "file_extension": ".py",
   "mimetype": "text/x-python",
   "name": "python",
   "nbconvert_exporter": "python",
   "pygments_lexer": "ipython3",
   "version": "3.5.4"
  }
 },
 "nbformat": 4,
 "nbformat_minor": 2
}
