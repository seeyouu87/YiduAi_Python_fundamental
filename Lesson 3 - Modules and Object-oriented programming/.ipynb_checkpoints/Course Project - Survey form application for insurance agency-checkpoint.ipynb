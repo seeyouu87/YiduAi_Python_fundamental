{
 "cells": [
  {
   "cell_type": "markdown",
   "metadata": {},
   "source": [
    "## Survey form application for insurance agency\n",
    "\n",
    "Use OOP method create a survey from application, the survey application will collect client's data for insurance agents. The below client's informations will be collected:   \n",
    "* Name\n",
    "* Age\n",
    "* Monthly salary\n",
    "* Monthly CPF deducted\n",
    "* Estimated Monthly expenses\n",
    "* Estimated saving per month   \n",
    "\n",
    "The application will store multiple client's data into a CSV file, application will read the data from CSV file for reporting purpose. The data will be shown on as chart to display the following:  \n",
    "* projected growth of saving ( with rate = 0.1%) -- query for certain client\n",
    "* projected growth of CPF (with rate = 2.8%) -- query for certain client\n",
    "* Chart to display client's income distribution (x-axis as income range, y-axis as number of clients)"
   ]
  },
  {
   "cell_type": "code",
   "execution_count": 25,
   "metadata": {},
   "outputs": [],
   "source": [
    "import pandas as pd\n",
    "class ClientSurvey:\n",
    "    def __init__(self):\n",
    "        self._existing_data = pd.read_csv('client_data.csv')\n",
    "    def collect_data(self):\n",
    "        name = input('name?')\n",
    "        age =  input('age?')\n",
    "        salary = input('salary?')\n",
    "        cpf = input('cpf?')\n",
    "        expense = input('expense?')\n",
    "        saving = input('saving?')\n",
    "#         series = pd.Series(self._existing_data[\"Name\"])\n",
    "#         self._existing_data[\"Name\"][0] = name\n",
    "        data = [name,age, salary,cpf, expense, saving]\n",
    "        self._existing_data.loc = data\n",
    "#         pd.Series(self._existing_data[\"Age\"]).append(age)\n",
    "#         pd.Series(self._existing_data[\"Monthly salary\"]).append(salary)\n",
    "#         pd.Series(self._existing_data[\"Monthly CPF deducted\"]).append(cpf)\n",
    "#         pd.Series(self._existing_data[\"Estimated Monthly expenses\"]).append(expense)\n",
    "#         pd.Series(self._existing_data[\"Estimated saving per month\"]).append(saving)\n",
    "        self._existing_data.to_csv('client_data.csv')\n",
    "    def display_existing(self):\n",
    "        print(self._existing_data)\n",
    "    def store_data(self):\n",
    "        df.to_csv('client_data.csv')"
   ]
  },
  {
   "cell_type": "code",
   "execution_count": 51,
   "metadata": {},
   "outputs": [
    {
     "name": "stdout",
     "output_type": "stream",
     "text": [
      "Empty DataFrame\n",
      "Columns: [Name, Age, Monthly salary, Monthly CPF deducted, Estimated Monthly expenses, Estimated saving per month]\n",
      "Index: []\n",
      "name?st\n",
      "age?st\n",
      "salary?st\n",
      "cpf?st\n",
      "expense?st\n",
      "saving?st\n"
     ]
    },
    {
     "name": "stderr",
     "output_type": "stream",
     "text": [
      "C:\\Users\\Dell\\AppData\\Local\\conda\\conda\\envs\\py35\\lib\\site-packages\\pandas\\core\\indexes\\api.py:87: RuntimeWarning: unorderable types: str() < int(), sort order is undefined for incomparable objects\n",
      "  result = result.union(other)\n"
     ]
    }
   ],
   "source": [
    "c = ClientSurvey()\n",
    "c.display_existing()\n",
    "c.collect_data()\n",
    "# A: 10000\n",
    "# B 10000000\n",
    "# C 500000\n",
    "\n",
    "# 0~1000 :  1000~10000 100000~100000"
   ]
  },
  {
   "cell_type": "code",
   "execution_count": null,
   "metadata": {},
   "outputs": [],
   "source": []
  }
 ],
 "metadata": {
  "kernelspec": {
   "display_name": "Python 3",
   "language": "python",
   "name": "python3"
  },
  "language_info": {
   "codemirror_mode": {
    "name": "ipython",
    "version": 3
   },
   "file_extension": ".py",
   "mimetype": "text/x-python",
   "name": "python",
   "nbconvert_exporter": "python",
   "pygments_lexer": "ipython3",
   "version": "3.5.4"
  }
 },
 "nbformat": 4,
 "nbformat_minor": 2
}
