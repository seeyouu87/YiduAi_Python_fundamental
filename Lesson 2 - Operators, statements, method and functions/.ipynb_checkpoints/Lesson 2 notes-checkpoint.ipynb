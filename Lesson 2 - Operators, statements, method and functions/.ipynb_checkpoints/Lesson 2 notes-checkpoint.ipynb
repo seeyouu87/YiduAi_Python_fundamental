{
 "cells": [
  {
   "cell_type": "markdown",
   "metadata": {},
   "source": [
    "## Python operator exercises"
   ]
  },
  {
   "cell_type": "code",
   "execution_count": 3,
   "metadata": {},
   "outputs": [
    {
     "name": "stdout",
     "output_type": "stream",
     "text": [
      "Line 1 - Value of c is  31\n",
      "Line 2 - Value of c is  11\n",
      "Line 3 - Value of c is  210\n",
      "Line 4 - Value of c is  2.1\n",
      "Line 5 - Value of c is  1\n",
      "Line 6 - Value of c is  8\n",
      "Line 7 - Value of c is  2\n"
     ]
    }
   ],
   "source": [
    "a = 21\n",
    "b = 10\n",
    "c = 0\n",
    "\n",
    "c = a + b\n",
    "print(\"Line 1 - Value of c is \", c)\n",
    "\n",
    "c = a - b\n",
    "print(\"Line 2 - Value of c is \", c) \n",
    "\n",
    "c = a * b\n",
    "print(\"Line 3 - Value of c is \", c) \n",
    "\n",
    "c = a / b\n",
    "print(\"Line 4 - Value of c is \", c) \n",
    "\n",
    "c = a % b\n",
    "print(\"Line 5 - Value of c is \", c)\n",
    "\n",
    "a = 2\n",
    "b = 3\n",
    "c = a**b \n",
    "print(\"Line 6 - Value of c is \", c)\n",
    "\n",
    "a = 11\n",
    "b = 5\n",
    "c = a//b \n",
    "print(\"Line 7 - Value of c is \", c)"
   ]
  },
  {
   "cell_type": "markdown",
   "metadata": {},
   "source": [
    "## Basic I/O in python ##\n",
    "\n",
    "* Python allows you to read, write and delete files\n",
    "* Use the function open(\"filename\",\"w+\") to create a file. The + tells the python compiler to create a file if it does not exist\n",
    "* To append data to an existing file use the command open(\"Filename\", \"a\")\n",
    "* Use the read function to read the ENTIRE contents of a file\n",
    "* Use the readlines function to read the content of the file one by one."
   ]
  },
  {
   "cell_type": "code",
   "execution_count": 31,
   "metadata": {},
   "outputs": [],
   "source": [
    "with open('testfile.txt', 'w+') as f:\n",
    "    f.write(\"this is a demo\")"
   ]
  },
  {
   "cell_type": "code",
   "execution_count": 3,
   "metadata": {},
   "outputs": [],
   "source": [
    "with open('testfile2.txt', 'a+') as f:\n",
    "    f.write(\"this is a demo\\n\")"
   ]
  },
  {
   "cell_type": "code",
   "execution_count": 6,
   "metadata": {},
   "outputs": [
    {
     "name": "stdout",
     "output_type": "stream",
     "text": [
      "this is a demo\n",
      "this is a demo\n",
      "this is a demo\n",
      "\n"
     ]
    }
   ],
   "source": [
    "with open('testfile2.txt','r') as f:\n",
    "    content = f.read()\n",
    "print(content)"
   ]
  },
  {
   "cell_type": "code",
   "execution_count": 40,
   "metadata": {},
   "outputs": [
    {
     "name": "stdout",
     "output_type": "stream",
     "text": [
      "['this is a demo\\n', 'this is a demo\\n']\n"
     ]
    }
   ],
   "source": [
    "with open('testfile2.txt','r') as f:\n",
    "    content = f.readlines()\n",
    "print(content)"
   ]
  },
  {
   "cell_type": "code",
   "execution_count": null,
   "metadata": {},
   "outputs": [],
   "source": []
  }
 ],
 "metadata": {
  "kernelspec": {
   "display_name": "Python 3",
   "language": "python",
   "name": "python3"
  },
  "language_info": {
   "codemirror_mode": {
    "name": "ipython",
    "version": 3
   },
   "file_extension": ".py",
   "mimetype": "text/x-python",
   "name": "python",
   "nbconvert_exporter": "python",
   "pygments_lexer": "ipython3",
   "version": "3.5.4"
  }
 },
 "nbformat": 4,
 "nbformat_minor": 2
}
