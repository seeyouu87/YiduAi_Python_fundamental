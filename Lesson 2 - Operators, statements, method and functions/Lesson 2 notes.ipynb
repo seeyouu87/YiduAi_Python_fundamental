{
 "cells": [
  {
   "cell_type": "markdown",
   "metadata": {},
   "source": [
    "## Arithmetic Operator exercises"
   ]
  },
  {
   "cell_type": "code",
   "execution_count": 3,
   "metadata": {},
   "outputs": [
    {
     "name": "stdout",
     "output_type": "stream",
     "text": [
      "Line 1 - Value of c is  31\n",
      "Line 2 - Value of c is  11\n",
      "Line 3 - Value of c is  210\n",
      "Line 4 - Value of c is  2.1\n",
      "Line 5 - Value of c is  1\n",
      "Line 6 - Value of c is  8\n",
      "Line 7 - Value of c is  2\n"
     ]
    }
   ],
   "source": [
    "income = 21\n",
    "expense = 10\n",
    "total = 0\n",
    "\n",
    "total = income + expense\n",
    "print(\"Line 1 - Value of total is \", total)\n",
    "\n",
    "balance = income - expense\n",
    "print(\"Line 2 - Value of balance is \", balance) \n",
    "\n",
    "interest_rate = 0.01\n",
    "interest_amount = interest_rate * balance\n",
    "print(\"Line 3 - Value of c is \", c) \n",
    "\n",
    "c = a / b\n",
    "print(\"Line 4 - Value of c is \", c) \n",
    "\n",
    "c = a % b\n",
    "print(\"Line 5 - Value of c is \", c)\n",
    "\n",
    "a = 2\n",
    "b = 3\n",
    "c = a**b \n",
    "print(\"Line 6 - Value of c is \", c)\n",
    "\n",
    "a = 11\n",
    "b = 5\n",
    "c = a//b \n",
    "print(\"Line 7 - Value of c is \", c)"
   ]
  },
  {
   "cell_type": "markdown",
   "metadata": {},
   "source": [
    "## Comparison operator exercise"
   ]
  },
  {
   "cell_type": "code",
   "execution_count": 2,
   "metadata": {},
   "outputs": [
    {
     "name": "stdout",
     "output_type": "stream",
     "text": [
      "True\n",
      "False\n",
      "False\n"
     ]
    }
   ],
   "source": [
    "income = 1000\n",
    "expense = 100\n",
    "print(income > expense)\n",
    "print(income < expense)\n",
    "print(income == expense)"
   ]
  },
  {
   "cell_type": "markdown",
   "metadata": {},
   "source": [
    "## Bitwise operator example"
   ]
  },
  {
   "cell_type": "code",
   "execution_count": 5,
   "metadata": {},
   "outputs": [
    {
     "name": "stdout",
     "output_type": "stream",
     "text": [
      "12\n",
      "15\n",
      "-16\n"
     ]
    }
   ],
   "source": [
    "a = 15 # 1111\n",
    "b = 12 # 1100\n",
    "print(a & b)\n",
    "print(a | b)\n",
    "print(~a)"
   ]
  },
  {
   "cell_type": "markdown",
   "metadata": {},
   "source": [
    "## Logical operator example"
   ]
  },
  {
   "cell_type": "code",
   "execution_count": 8,
   "metadata": {},
   "outputs": [
    {
     "data": {
      "text/plain": [
       "0"
      ]
     },
     "execution_count": 8,
     "metadata": {},
     "output_type": "execute_result"
    }
   ],
   "source": [
    "a = 1\n",
    "b = 0\n",
    "a and b"
   ]
  },
  {
   "cell_type": "code",
   "execution_count": 9,
   "metadata": {},
   "outputs": [
    {
     "data": {
      "text/plain": [
       "1"
      ]
     },
     "execution_count": 9,
     "metadata": {},
     "output_type": "execute_result"
    }
   ],
   "source": [
    "a or b"
   ]
  },
  {
   "cell_type": "markdown",
   "metadata": {},
   "source": [
    "## Membership operator example"
   ]
  },
  {
   "cell_type": "code",
   "execution_count": 11,
   "metadata": {},
   "outputs": [
    {
     "name": "stdout",
     "output_type": "stream",
     "text": [
      "What is your permit type?student pass\n",
      "you don't hold a valid working permit in singapore\n"
     ]
    }
   ],
   "source": [
    "permit_types = ['PR','WP','EP','S-Pass']\n",
    "user_permit = input(\"What is your permit type?\")\n",
    "if user_permit in permit_types:\n",
    "    print(\"you hold a valid work permit\")\n",
    "else:\n",
    "    print(\"you don't hold a valid working permit in singapore\")"
   ]
  },
  {
   "cell_type": "markdown",
   "metadata": {},
   "source": [
    "## Identity operator example"
   ]
  },
  {
   "cell_type": "code",
   "execution_count": 15,
   "metadata": {},
   "outputs": [
    {
     "name": "stdout",
     "output_type": "stream",
     "text": [
      "True\n",
      "False\n"
     ]
    }
   ],
   "source": [
    "a = [1, 2, 3, 4]\n",
    "b = [1, 2, 3, 4]\n",
    "print(a == b)\n",
    "print(a is b)"
   ]
  },
  {
   "cell_type": "code",
   "execution_count": 16,
   "metadata": {},
   "outputs": [
    {
     "name": "stdout",
     "output_type": "stream",
     "text": [
      "[1, 2, 3, 4]\n",
      "[1, 2, 3, 4]\n",
      "True\n",
      "True\n"
     ]
    }
   ],
   "source": [
    "a = [1, 2, 3, 4]\n",
    "b = a\n",
    "print(a)\n",
    "print(b)\n",
    "print(a ==b)\n",
    "print(a is b)"
   ]
  },
  {
   "cell_type": "markdown",
   "metadata": {},
   "source": [
    "## If else Statement"
   ]
  },
  {
   "cell_type": "code",
   "execution_count": 17,
   "metadata": {},
   "outputs": [
    {
     "name": "stdout",
     "output_type": "stream",
     "text": [
      "You are less financially stable\n"
     ]
    }
   ],
   "source": [
    "annual_income = 50000\n",
    "if annual_income > 100000:\n",
    "    print('You are more financially stable')\n",
    "else:\n",
    "    print('You are less financially stable')"
   ]
  },
  {
   "cell_type": "markdown",
   "metadata": {},
   "source": [
    "## Nested if else statement"
   ]
  },
  {
   "cell_type": "code",
   "execution_count": 19,
   "metadata": {},
   "outputs": [
    {
     "name": "stdout",
     "output_type": "stream",
     "text": [
      "You may consider invest into government bond\n"
     ]
    }
   ],
   "source": [
    "permit = 'PR'\n",
    "annual_income = 50000\n",
    "if permit =='PR' or permit == 'Singaporean':\n",
    "    if annual_income > 100000:\n",
    "        print('You may consider invest into property')\n",
    "    else:\n",
    "        print('You may consider invest into government bond')\n",
    "else:\n",
    "    if annual_income > 100000:\n",
    "        print('You may consider invest into stock')\n",
    "    else:\n",
    "        print('You may consider invest into fixed deposit')"
   ]
  },
  {
   "cell_type": "markdown",
   "metadata": {},
   "source": [
    "## For loop\n",
    "\n",
    "for loop require to loop through an iterable object\n",
    "\n",
    "built-in function range() will create an interable list of numbers"
   ]
  },
  {
   "cell_type": "code",
   "execution_count": 4,
   "metadata": {},
   "outputs": [
    {
     "name": "stdout",
     "output_type": "stream",
     "text": [
      "1\n",
      "2\n",
      "3\n",
      "4\n",
      "5\n"
     ]
    }
   ],
   "source": [
    "for counter in range(1, 6):\n",
    "    print(counter)"
   ]
  },
  {
   "cell_type": "code",
   "execution_count": 7,
   "metadata": {},
   "outputs": [
    {
     "name": "stdout",
     "output_type": "stream",
     "text": [
      "here show example of list:\n",
      "2-rooms flat\n",
      "3-rooms flat\n",
      "4-rooms flat\n",
      "5-rooms flat\n",
      "Condo\n",
      "\n",
      "here show example of dictionary:\n",
      "my dictionary key: dinner\n",
      "dictionary value: 7.5\n",
      "my dictionary key: bus\n",
      "dictionary value: 1.2\n",
      "my dictionary key: lunch\n",
      "dictionary value: 15.5\n",
      "my dictionary key: MRT\n",
      "dictionary value: 2.2\n",
      "my dictionary key: breakfast\n",
      "dictionary value: 10.5\n"
     ]
    }
   ],
   "source": [
    "# iterable object also include list and dictionary:\n",
    "print(\"here show example of list:\")\n",
    "for list_item in ['2-rooms flat', '3-rooms flat', '4-rooms flat', '5-rooms flat', 'Condo']:\n",
    "    print(list_item)\n",
    "\n",
    "print(\"\\nhere show example of dictionary:\")\n",
    "expenses = {'breakfast':10.50,'lunch':15.50, 'dinner':7.50,'bus':1.20, 'MRT':2.20,}\n",
    "for dictionary_key in  expenses:\n",
    "    print(\"my dictionary key: {}\".format(dictionary_key))\n",
    "    print(\"dictionary value: {}\".format(expenses[dictionary_key]))"
   ]
  },
  {
   "cell_type": "markdown",
   "metadata": {},
   "source": [
    "## While loop\n",
    "\n",
    "while loop will always repeat the block if the condition is true\n",
    "\n",
    "```python\n",
    "while (condition is true?):\n",
    "    block of code here...\n",
    "```\n",
    "\n",
    "in order to avoid infinite loop, we should ensure the while condition will break until certain stage"
   ]
  },
  {
   "cell_type": "code",
   "execution_count": 8,
   "metadata": {},
   "outputs": [
    {
     "name": "stdout",
     "output_type": "stream",
     "text": [
      "0\n",
      "1\n",
      "2\n",
      "3\n",
      "4\n",
      "5\n"
     ]
    }
   ],
   "source": [
    "i = 0\n",
    "while i<6:\n",
    "    print(i)\n",
    "    i += 1"
   ]
  },
  {
   "cell_type": "markdown",
   "metadata": {},
   "source": [
    "## Basic I/O in python ##\n",
    "\n",
    "* Python allows you to read, write and delete files\n",
    "* Use the function open(\"filename\",\"w+\") to create a file. The + tells the python compiler to create a file if it does not exist\n",
    "* To append data to an existing file use the command open(\"Filename\", \"a\")\n",
    "* Use the read function to read the ENTIRE contents of a file\n",
    "* Use the readlines function to read the content of the file one by one."
   ]
  },
  {
   "cell_type": "code",
   "execution_count": 31,
   "metadata": {},
   "outputs": [],
   "source": [
    "with open('testfile.txt', 'w+') as f:\n",
    "    f.write(\"this is a demo\")"
   ]
  },
  {
   "cell_type": "code",
   "execution_count": 3,
   "metadata": {},
   "outputs": [],
   "source": [
    "with open('testfile2.txt', 'a+') as f:\n",
    "    f.write(\"this is a demo\\n\")"
   ]
  },
  {
   "cell_type": "code",
   "execution_count": 6,
   "metadata": {},
   "outputs": [
    {
     "name": "stdout",
     "output_type": "stream",
     "text": [
      "this is a demo\n",
      "this is a demo\n",
      "this is a demo\n",
      "\n"
     ]
    }
   ],
   "source": [
    "with open('testfile2.txt','r') as f:\n",
    "    content = f.read()\n",
    "print(content)"
   ]
  },
  {
   "cell_type": "code",
   "execution_count": 40,
   "metadata": {},
   "outputs": [
    {
     "name": "stdout",
     "output_type": "stream",
     "text": [
      "['this is a demo\\n', 'this is a demo\\n']\n"
     ]
    }
   ],
   "source": [
    "with open('testfile2.txt','r') as f:\n",
    "    content = f.readlines()\n",
    "print(content)"
   ]
  },
  {
   "cell_type": "code",
   "execution_count": null,
   "metadata": {},
   "outputs": [],
   "source": []
  }
 ],
 "metadata": {
  "kernelspec": {
   "display_name": "Python 3",
   "language": "python",
   "name": "python3"
  },
  "language_info": {
   "codemirror_mode": {
    "name": "ipython",
    "version": 3
   },
   "file_extension": ".py",
   "mimetype": "text/x-python",
   "name": "python",
   "nbconvert_exporter": "python",
   "pygments_lexer": "ipython3",
   "version": "3.5.4"
  }
 },
 "nbformat": 4,
 "nbformat_minor": 2
}
