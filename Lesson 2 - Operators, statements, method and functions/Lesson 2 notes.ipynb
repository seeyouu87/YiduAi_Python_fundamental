{
 "cells": [
  {
   "cell_type": "markdown",
   "metadata": {},
   "source": [
    "## Arithmetic Operator example"
   ]
  },
  {
   "cell_type": "code",
   "execution_count": 3,
   "metadata": {},
   "outputs": [
    {
     "name": "stdout",
     "output_type": "stream",
     "text": [
      "Line 1 - Value of total is  31\n",
      "Line 2 - Value of balance is  11\n",
      "Line 3 - Value of interest amount is  0.11\n",
      "Line 4 - Value of c is  3.3333333333333335\n",
      "Line 5 - Value of c is  10\n",
      "Line 6 - Value of c is  8\n",
      "Line 7 - Value of c is  2\n"
     ]
    }
   ],
   "source": [
    "income = 21\n",
    "expense = 10\n",
    "total = 0\n",
    "\n",
    "total = income + expense\n",
    "print(\"Line 1 - Value of total is \", total)\n",
    "\n",
    "balance = income - expense\n",
    "print(\"Line 2 - Value of balance is \", balance) \n",
    "\n",
    "interest_rate = 0.01\n",
    "interest_amount = interest_rate * balance\n",
    "print(\"Line 3 - Value of interest amount is \", interest_amount) \n",
    "\n",
    "a = 100\n",
    "b = 30\n",
    "c = a / b\n",
    "print(\"Line 4 - Value of c is \", c) \n",
    "\n",
    "c = a % b\n",
    "print(\"Line 5 - Value of c is \", c)\n",
    "\n",
    "a = 2\n",
    "b = 3\n",
    "c = a**b \n",
    "print(\"Line 6 - Value of c is \", c)\n",
    "\n",
    "a = 11\n",
    "b = 5\n",
    "c = a//b \n",
    "print(\"Line 7 - Value of c is \", c)"
   ]
  },
  {
   "cell_type": "markdown",
   "metadata": {},
   "source": [
    "## Comparison operator example"
   ]
  },
  {
   "cell_type": "code",
   "execution_count": 4,
   "metadata": {},
   "outputs": [
    {
     "name": "stdout",
     "output_type": "stream",
     "text": [
      "True\n",
      "False\n",
      "False\n"
     ]
    }
   ],
   "source": [
    "income = 1000\n",
    "expense = 100\n",
    "print(income >= expense)\n",
    "print(income <= expense)\n",
    "print(income == expense)"
   ]
  },
  {
   "cell_type": "markdown",
   "metadata": {},
   "source": [
    "## Bitwise operator example"
   ]
  },
  {
   "cell_type": "code",
   "execution_count": 10,
   "metadata": {},
   "outputs": [
    {
     "name": "stdout",
     "output_type": "stream",
     "text": [
      "12\n",
      "14\n",
      "-13\n"
     ]
    }
   ],
   "source": [
    "a = 14 # 01110\n",
    "b = 12 # 01100\n",
    "print(a & b) # 1100\n",
    "print(a | b) # 1111\n",
    "print(~b) # 10011 (+ or - number) -16+3 "
   ]
  },
  {
   "cell_type": "markdown",
   "metadata": {},
   "source": [
    "## Logical operator example"
   ]
  },
  {
   "cell_type": "code",
   "execution_count": 8,
   "metadata": {},
   "outputs": [
    {
     "data": {
      "text/plain": [
       "0"
      ]
     },
     "execution_count": 8,
     "metadata": {},
     "output_type": "execute_result"
    }
   ],
   "source": [
    "a = 1\n",
    "b = 0\n",
    "a and b"
   ]
  },
  {
   "cell_type": "code",
   "execution_count": 7,
   "metadata": {},
   "outputs": [
    {
     "data": {
      "text/plain": [
       "1"
      ]
     },
     "execution_count": 7,
     "metadata": {},
     "output_type": "execute_result"
    }
   ],
   "source": [
    "a or b"
   ]
  },
  {
   "cell_type": "markdown",
   "metadata": {},
   "source": [
    "## Membership operator example"
   ]
  },
  {
   "cell_type": "code",
   "execution_count": 12,
   "metadata": {},
   "outputs": [
    {
     "name": "stdout",
     "output_type": "stream",
     "text": [
      "What is your permit type?visit pass\n",
      "you don't hold a valid working permit in singapore\n"
     ]
    }
   ],
   "source": [
    "permit_types = ['PR','WP','EP','S-Pass']\n",
    "user_permit = input(\"What is your permit type?\")\n",
    "if user_permit in permit_types:\n",
    "    print(\"you hold a valid work permit\")\n",
    "else:\n",
    "    print(\"you don't hold a valid working permit in singapore\")"
   ]
  },
  {
   "cell_type": "markdown",
   "metadata": {},
   "source": [
    "## Identity operator example"
   ]
  },
  {
   "cell_type": "code",
   "execution_count": 15,
   "metadata": {},
   "outputs": [
    {
     "data": {
      "text/plain": [
       "True"
      ]
     },
     "execution_count": 15,
     "metadata": {},
     "output_type": "execute_result"
    }
   ],
   "source": [
    "a = 1\n",
    "b = 1\n",
    "a == b"
   ]
  },
  {
   "cell_type": "code",
   "execution_count": 17,
   "metadata": {},
   "outputs": [
    {
     "name": "stdout",
     "output_type": "stream",
     "text": [
      "True\n",
      "False\n",
      "True\n"
     ]
    }
   ],
   "source": [
    "a = [1, 2, 3, 4]\n",
    "b = [1, 2, 3, 4]\n",
    "c = a\n",
    "print(a == b)\n",
    "print(a is b)\n",
    "print(a is c)"
   ]
  },
  {
   "cell_type": "code",
   "execution_count": 18,
   "metadata": {},
   "outputs": [
    {
     "name": "stdout",
     "output_type": "stream",
     "text": [
      "[1, 2, 3, 4]\n",
      "[1, 2, 3, 4]\n",
      "True\n",
      "True\n"
     ]
    }
   ],
   "source": [
    "a = [1, 2, 3, 4]\n",
    "b = a\n",
    "print(a)\n",
    "print(b)\n",
    "print(a ==b)\n",
    "print(a is b)"
   ]
  },
  {
   "cell_type": "markdown",
   "metadata": {},
   "source": [
    "## If else Statement"
   ]
  },
  {
   "cell_type": "code",
   "execution_count": 19,
   "metadata": {},
   "outputs": [
    {
     "name": "stdout",
     "output_type": "stream",
     "text": [
      "How much is your annual income? 1500000\n",
      "How much is your annual expense? 200000\n",
      "You can try high risk investment\n"
     ]
    }
   ],
   "source": [
    "income = input('How much is your annual income? ')\n",
    "expense = input('How much is your annual expense? ')\n",
    "net_income = float(income) - float(expense)\n",
    "if net_income > 100000:\n",
    "    print('You can try high risk investment')\n",
    "else:\n",
    "    print('You can try low risk investment')"
   ]
  },
  {
   "cell_type": "code",
   "execution_count": 20,
   "metadata": {},
   "outputs": [
    {
     "name": "stdout",
     "output_type": "stream",
     "text": [
      "You can try high risk investment\n"
     ]
    },
    {
     "data": {
      "text/plain": [
       "123"
      ]
     },
     "execution_count": 20,
     "metadata": {},
     "output_type": "execute_result"
    }
   ],
   "source": [
    "# if else ternary format:\n",
    "print('You can try high risk investment') if net_income > 100000 else print('You can try low risk investment')\n",
    "a = 123 if net_income > 100000 else 456\n",
    "a"
   ]
  },
  {
   "cell_type": "markdown",
   "metadata": {},
   "source": [
    "## Nested if else statement"
   ]
  },
  {
   "cell_type": "code",
   "execution_count": 19,
   "metadata": {},
   "outputs": [
    {
     "name": "stdout",
     "output_type": "stream",
     "text": [
      "You may consider invest into government bond\n"
     ]
    }
   ],
   "source": [
    "permit = 'PR'\n",
    "annual_income = 50000\n",
    "if permit =='PR' or permit == 'Singaporean':\n",
    "    if annual_income > 100000:\n",
    "        print('You may consider invest into property')\n",
    "    else:\n",
    "        print('You may consider invest into government bond')\n",
    "else:\n",
    "    if annual_income > 100000:\n",
    "        print('You may consider invest into stock')\n",
    "    else:\n",
    "        print('You may consider invest into fixed deposit')"
   ]
  },
  {
   "cell_type": "markdown",
   "metadata": {},
   "source": [
    "## For loop\n",
    "\n",
    "for loop require to loop through an iterable object\n",
    "\n",
    "built-in function range() will create an interable list of numbers"
   ]
  },
  {
   "cell_type": "code",
   "execution_count": 26,
   "metadata": {},
   "outputs": [
    {
     "name": "stdout",
     "output_type": "stream",
     "text": [
      "0\n",
      "1\n",
      "2\n",
      "3\n",
      "4\n"
     ]
    }
   ],
   "source": [
    "for f_num in range(5): # for (int i=0;i<5; i++ )\n",
    "    print(f_num)"
   ]
  },
  {
   "cell_type": "code",
   "execution_count": 28,
   "metadata": {},
   "outputs": [
    {
     "name": "stdout",
     "output_type": "stream",
     "text": [
      "here show example of list:\n",
      "2-rooms flat\n",
      "3-rooms flat\n",
      "4-rooms flat\n",
      "5-rooms flat\n",
      "Condo\n",
      "\n",
      "here show example of dictionary:\n",
      "Type of expenses | expenses amount\n",
      "MRT     |2.2\n",
      "breakfast     |10.5\n",
      "bus     |1.2\n",
      "dinner     |7.5\n",
      "lunch     |15.5\n"
     ]
    }
   ],
   "source": [
    "# iterable object also include list and dictionary:\n",
    "print(\"here show example of list:\")\n",
    "for list_item in ['2-rooms flat', '3-rooms flat', '4-rooms flat', '5-rooms flat', 'Condo']:\n",
    "    print(list_item)\n",
    "\n",
    "print(\"\\nhere show example of dictionary:\")\n",
    "expenses = {'breakfast':10.50,'lunch':15.50, 'dinner':7.50,'bus':1.20, 'MRT':2.20,}\n",
    "print ('Type of expenses | expenses amount')\n",
    "for dictionary_key in  expenses:\n",
    "    print('{}     |{}'.format(dictionary_key,expenses[dictionary_key]))\n",
    "#     print(\"my dictionary key: {}\".format(dictionary_key))\n",
    "#     print(\"dictionary value: {}\".format(expenses[dictionary_key]))"
   ]
  },
  {
   "cell_type": "markdown",
   "metadata": {},
   "source": [
    "## While loop\n",
    "\n",
    "while loop will always repeat the block if the condition is true\n",
    "\n",
    "```python\n",
    "while (condition is true?):\n",
    "    block of code here...\n",
    "```\n",
    "\n",
    "in order to avoid infinite loop, we should ensure the while condition will break until certain stage"
   ]
  },
  {
   "cell_type": "code",
   "execution_count": 8,
   "metadata": {},
   "outputs": [
    {
     "name": "stdout",
     "output_type": "stream",
     "text": [
      "0\n",
      "1\n",
      "2\n",
      "3\n",
      "4\n",
      "5\n"
     ]
    }
   ],
   "source": [
    "i = 0\n",
    "while i<6:\n",
    "    print(i)\n",
    "    i += 1"
   ]
  },
  {
   "cell_type": "markdown",
   "metadata": {},
   "source": [
    "## Functions\n"
   ]
  },
  {
   "cell_type": "code",
   "execution_count": 5,
   "metadata": {},
   "outputs": [
    {
     "data": {
      "text/plain": [
       "7"
      ]
     },
     "execution_count": 5,
     "metadata": {},
     "output_type": "execute_result"
    }
   ],
   "source": [
    "# customized user-define function\n",
    "# creating a function:\n",
    "def Subtract (a, b): \n",
    "    return (a-b)\n",
    "\n",
    "# calling a function:\n",
    "Subtract(10,3)"
   ]
  },
  {
   "cell_type": "code",
   "execution_count": 4,
   "metadata": {},
   "outputs": [
    {
     "name": "stdout",
     "output_type": "stream",
     "text": [
      "How old are you?20\n"
     ]
    },
    {
     "data": {
      "text/plain": [
       "'20'"
      ]
     },
     "execution_count": 4,
     "metadata": {},
     "output_type": "execute_result"
    }
   ],
   "source": [
    "# built-in function\n",
    "input(\"How old are you? \")"
   ]
  },
  {
   "cell_type": "markdown",
   "metadata": {},
   "source": [
    "## Method"
   ]
  },
  {
   "cell_type": "code",
   "execution_count": 9,
   "metadata": {},
   "outputs": [
    {
     "data": {
      "text/plain": [
       "2"
      ]
     },
     "execution_count": 9,
     "metadata": {},
     "output_type": "execute_result"
    }
   ],
   "source": [
    "# method is a member function under a class\n",
    "# in order to use method from a built-in class, we need to import them\n",
    "import math\n",
    "math.ceil(1.01)"
   ]
  },
  {
   "cell_type": "code",
   "execution_count": 31,
   "metadata": {},
   "outputs": [
    {
     "name": "stdout",
     "output_type": "stream",
     "text": [
      "Hello sir, I am your robo advisor. \n"
     ]
    }
   ],
   "source": [
    "# User-Defined  Method \n",
    "class RoboAdvisor : \n",
    "    def greeting (self): \n",
    "        print(\"Hello sir, I am your robo advisor. \") \n",
    "  \n",
    "class_ref = RoboAdvisor() # object of RoboAdvisor class \n",
    "class_ref.greeting() "
   ]
  },
  {
   "cell_type": "markdown",
   "metadata": {},
   "source": [
    "## Hands-on: Create a function\n",
    "Create a function which will display the below output:   \n",
    " 1  \n",
    " 22  \n",
    " 333  \n",
    " 4444  \n",
    " 55555  "
   ]
  },
  {
   "cell_type": "code",
   "execution_count": 30,
   "metadata": {},
   "outputs": [
    {
     "name": "stdout",
     "output_type": "stream",
     "text": [
      "1\n",
      "22\n",
      "333\n",
      "4444\n",
      "55555\n"
     ]
    }
   ],
   "source": [
    "def my_func():\n",
    "    for ele in range(5):\n",
    "        print(str(ele+1)*(ele+1))\n",
    "my_func() # calling function"
   ]
  },
  {
   "cell_type": "markdown",
   "metadata": {},
   "source": [
    "## Hands-on : Collect user input repeatly until user typed 'q'"
   ]
  },
  {
   "cell_type": "code",
   "execution_count": 32,
   "metadata": {},
   "outputs": [
    {
     "name": "stdout",
     "output_type": "stream",
     "text": [
      "Please key in type of expenses you have:transport\n",
      "Please key in type of expenses you have:meal\n",
      "Please key in type of expenses you have:q\n"
     ]
    }
   ],
   "source": [
    "user_input = set()\n",
    "type_of_expense = input('Please key in type of expenses you have:')\n",
    "while type_of_expense != 'q': # continue your code...\n",
    "    user_input.add(type_of_expense)\n",
    "    type_of_expense = input('Please key in type of expenses you have:')"
   ]
  },
  {
   "cell_type": "code",
   "execution_count": 34,
   "metadata": {},
   "outputs": [
    {
     "name": "stdout",
     "output_type": "stream",
     "text": [
      "How much you spend on meal? :12\n",
      "How much you spend on transport? :12\n"
     ]
    }
   ],
   "source": [
    "user_input\n",
    "for item in user_input:\n",
    "    value = input('How much you spend on {}? :'.format(item))"
   ]
  },
  {
   "cell_type": "markdown",
   "metadata": {},
   "source": [
    "## Basic I/O in python ##\n",
    "\n",
    "* Python allows you to read, write and delete files\n",
    "* Use the function open(\"filename\",\"w+\") to create a file. The + tells the python compiler to create a file if it does not exist\n",
    "* To append data to an existing file use the command open(\"Filename\", \"a\")\n",
    "* Use the read function to read the ENTIRE contents of a file\n",
    "* Use the readlines function to read the content of the file one by one."
   ]
  },
  {
   "cell_type": "code",
   "execution_count": 35,
   "metadata": {},
   "outputs": [],
   "source": [
    "with open('testfile.txt', 'w+') as f:\n",
    "    f.write(\"this is a demo\")"
   ]
  },
  {
   "cell_type": "code",
   "execution_count": 36,
   "metadata": {},
   "outputs": [],
   "source": [
    "with open('testfile2.txt', 'a+') as f:\n",
    "    f.write(\"this is a demo\\n\")"
   ]
  },
  {
   "cell_type": "code",
   "execution_count": 37,
   "metadata": {},
   "outputs": [
    {
     "name": "stdout",
     "output_type": "stream",
     "text": [
      "this is a demo\n",
      "this is a demo\n",
      "this is a demo\n",
      "this is a demo\n",
      "\n"
     ]
    }
   ],
   "source": [
    "with open('testfile2.txt','r') as f:\n",
    "    content = f.read()\n",
    "print(content)"
   ]
  },
  {
   "cell_type": "code",
   "execution_count": 38,
   "metadata": {},
   "outputs": [
    {
     "name": "stdout",
     "output_type": "stream",
     "text": [
      "['this is a demo\\n', 'this is a demo\\n', 'this is a demo\\n', 'this is a demo\\n']\n"
     ]
    }
   ],
   "source": [
    "with open('testfile2.txt','r') as f:\n",
    "    content = f.readlines()\n",
    "print(content)"
   ]
  },
  {
   "cell_type": "code",
   "execution_count": null,
   "metadata": {},
   "outputs": [],
   "source": []
  }
 ],
 "metadata": {
  "kernelspec": {
   "display_name": "Python 3",
   "language": "python",
   "name": "python3"
  },
  "language_info": {
   "codemirror_mode": {
    "name": "ipython",
    "version": 3
   },
   "file_extension": ".py",
   "mimetype": "text/x-python",
   "name": "python",
   "nbconvert_exporter": "python",
   "pygments_lexer": "ipython3",
   "version": "3.5.4"
  }
 },
 "nbformat": 4,
 "nbformat_minor": 2
}
